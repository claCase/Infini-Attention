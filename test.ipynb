{
 "cells": [
  {
   "cell_type": "code",
   "execution_count": 5,
   "metadata": {},
   "outputs": [
    {
     "data": {
      "text/plain": [
       "<module 'src.layers' from '/mnt/a/Users/Claudio/Documents/PROJECTS/Infini-Attention-tf/src/layers.py'>"
      ]
     },
     "execution_count": 5,
     "metadata": {},
     "output_type": "execute_result"
    }
   ],
   "source": [
    "import tensorflow as tf \n",
    "import numpy as np \n",
    "from src import layers\n",
    "from importlib import reload \n",
    "reload(layers)"
   ]
  },
  {
   "cell_type": "code",
   "execution_count": 8,
   "metadata": {},
   "outputs": [],
   "source": [
    "B = 10\n",
    "C = 30\n",
    "I = 15\n",
    "D = 5\n",
    "H = 3\n",
    "T = 3\n",
    "x = tf.random.normal(shape=(B, C, I))\n",
    "\n",
    "states = [tf.zeros(shape=(B, H, D, D)), tf.zeros(shape=(B, H, D))]\n",
    "ac = layers.AttentionRNNCell(dims=D, heads=H, context_length=C)\n",
    "o1, o2 = ac(x, states=states)"
   ]
  },
  {
   "cell_type": "code",
   "execution_count": 6,
   "metadata": {},
   "outputs": [],
   "source": [
    "rnn = tf.keras.layers.RNN(ac)"
   ]
  },
  {
   "cell_type": "code",
   "execution_count": 9,
   "metadata": {},
   "outputs": [],
   "source": [
    "xt = tf.random.normal(shape=(B, T, C, I))\n",
    "_ = rnn(xt)"
   ]
  }
 ],
 "metadata": {
  "kernelspec": {
   "display_name": "Python 3",
   "language": "python",
   "name": "python3"
  },
  "language_info": {
   "codemirror_mode": {
    "name": "ipython",
    "version": 3
   },
   "file_extension": ".py",
   "mimetype": "text/x-python",
   "name": "python",
   "nbconvert_exporter": "python",
   "pygments_lexer": "ipython3",
   "version": "3.11.0rc1"
  }
 },
 "nbformat": 4,
 "nbformat_minor": 2
}
